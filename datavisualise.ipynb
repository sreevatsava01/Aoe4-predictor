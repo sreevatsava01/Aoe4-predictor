{
 "cells": [
  {
   "cell_type": "code",
   "execution_count": null,
   "metadata": {},
   "outputs": [],
   "source": [
    "import json\n",
    "import time\n",
    "import datetime\n",
    "import random\n",
    "import os\n"
   ]
  },
  {
   "cell_type": "code",
   "execution_count": null,
   "metadata": {},
   "outputs": [],
   "source": [
    "import pandas as pd\n",
    "import plotly.express as px\n",
    "\n",
    "# Assuming df is your DataFrame containing the game data\n",
    "import dash\n",
    "from dash import dcc\n",
    "from dash import html\n",
    "import plotly.graph_objs as go\n",
    "\n",
    "# Assuming app is your Dash application instance\n",
    "\n",
    "# Define layout of the dashboard\n",
    "# pd.set_option('display.max_rows', None)\n",
    "# pd.set_option('display.max_columns', None)\n",
    "pd.set_option('display.max_colwidth', None)\n",
    "df = pd.read_json(\"./datadump/games_rm_1v1_s6.json\")\n",
    "\n",
    "print(df)"
   ]
  },
  {
   "cell_type": "code",
   "execution_count": null,
   "metadata": {},
   "outputs": [],
   "source": [
    "main_df = df"
   ]
  },
  {
   "cell_type": "code",
   "execution_count": null,
   "metadata": {},
   "outputs": [],
   "source": [
    "\n",
    "df = df.explode(\"teams\")\n",
    "\n",
    "print(df)"
   ]
  },
  {
   "cell_type": "code",
   "execution_count": null,
   "metadata": {},
   "outputs": [],
   "source": [
    "from pandas import json_normalize\n",
    "test_df = main_df\n",
    "test_df.reset_index(drop=True, inplace=True)\n",
    "test_df[['team1', 'team2']] = pd.json_normalize(test_df['teams'])\n",
    "\n",
    "# Drop the original 'players' column\n",
    "test_df.drop(columns=['teams'], inplace=True)\n",
    "print(test_df)"
   ]
  },
  {
   "cell_type": "code",
   "execution_count": null,
   "metadata": {},
   "outputs": [],
   "source": [
    "sample = pd.json_normalize(test_df['team2'])\n",
    "print(len(sample.columns))"
   ]
  },
  {
   "cell_type": "code",
   "execution_count": null,
   "metadata": {},
   "outputs": [],
   "source": [
    "player1_df = test_df\n",
    "player1_df[['team_1','1','2','3']] = pd.json_normalize(test_df['team1'])\n",
    "\n",
    "player1_df[['team_2','4','5']] = pd.json_normalize(test_df['team2'])\n",
    "# player1_df = pd.json_normalize(test_df['team1'])\n",
    "# player1_df = pd.json_normalize(player1_df['0'])\n",
    "player1_df.drop(columns=['team1','1','2','3'], inplace=True)\n",
    "player1_df.drop(columns=['team2','4','5'], inplace=True)\n",
    "# Rename the columns with a custom prefix\n",
    "# player1_df.columns = [f'team1{col}' for col in player1_df.columns]\n",
    "# player1_df = pd.json_normalize(player1_df['team1'])\n",
    "print(player1_df)"
   ]
  },
  {
   "cell_type": "code",
   "execution_count": null,
   "metadata": {},
   "outputs": [],
   "source": [
    "sample1 = pd.json_normalize(player1_df['team_1'])\n",
    "print(isinstance(sample1, pd.DataFrame))\n",
    "sample2 = pd.json_normalize(player1_df['team_2'])\n",
    "print(isinstance(sample2, pd.DataFrame))\n",
    "combined_df = pd.concat([sample1, sample2], ignore_index=True)\n",
    "print(len(combined_df))"
   ]
  },
  {
   "cell_type": "code",
   "execution_count": null,
   "metadata": {},
   "outputs": [],
   "source": [
    "print(combined_df)"
   ]
  },
  {
   "cell_type": "code",
   "execution_count": null,
   "metadata": {},
   "outputs": [],
   "source": [
    "avg_mmr_by_civilization = combined_df.groupby('civilization')['mmr'].mean().reset_index()\n",
    "print(avg_mmr_by_civilization)"
   ]
  },
  {
   "cell_type": "code",
   "execution_count": null,
   "metadata": {},
   "outputs": [],
   "source": [
    "win_loss_counts = combined_df.groupby(['civilization', 'result']).size().unstack(fill_value=0)\n",
    "print(win_loss_counts)"
   ]
  },
  {
   "cell_type": "code",
   "execution_count": null,
   "metadata": {},
   "outputs": [],
   "source": [
    "\n",
    "\n",
    "win_loss_counts['win_loss_ratio'] = win_loss_counts['win'] / win_loss_counts['loss']\n",
    "\n",
    "fig = go.Figure(go.Bar(\n",
    "    y=win_loss_counts.index,\n",
    "    x=win_loss_counts['win_loss_ratio'],\n",
    "    orientation='h'\n",
    "))\n",
    "\n",
    "# Customize layout\n",
    "fig.update_layout(\n",
    "    title='Win/Loss Ratio by Civilization',\n",
    "    xaxis_title='Win/Loss Ratio',\n",
    "    yaxis_title='Civilization',\n",
    "    yaxis={'categoryorder':'total ascending'}\n",
    ")\n",
    "\n",
    "# Show the plot\n",
    "fig.show()"
   ]
  },
  {
   "cell_type": "code",
   "execution_count": null,
   "metadata": {},
   "outputs": [],
   "source": [
    "contoller = combined_df[combined_df['input_type'] == 'controller']\n",
    "players_per_civilization = contoller.groupby('civilization').size()\n",
    "print(contoller)\n",
    "total_players = players_per_civilization.sum()\n",
    "\n",
    "# Calculate the percentage of players who used the mouse input type for each civilization\n",
    "percentage_players_mouse = (players_per_civilization / total_players) * 100\n"
   ]
  },
  {
   "cell_type": "code",
   "execution_count": null,
   "metadata": {},
   "outputs": [],
   "source": [
    "fig = go.Figure(go.Bar(\n",
    "    x=percentage_players_mouse.index,\n",
    "    y=percentage_players_mouse,\n",
    "    marker=dict(color='blue')  # Customize the color of the bars\n",
    "))\n",
    "\n",
    "# Customize layout\n",
    "fig.update_layout(\n",
    "    title='Percentage of Players per Civilization who Used Mouse Input Type',\n",
    "    xaxis_title='Civilization',\n",
    "    yaxis_title='Percentage of Players',\n",
    ")\n",
    "\n",
    "# Show the plot\n",
    "fig.show()"
   ]
  },
  {
   "cell_type": "code",
   "execution_count": null,
   "metadata": {},
   "outputs": [],
   "source": [
    "player1_data = sample1.rename(columns={'profile_id': 'player_id_1', \"result\" : 'result_1', \"civilization\" : \"civ_1\", \"civilization_randomized\": \"random_civ_1\",\n",
    "                                        \"rating\": \"rating_1\", \"rating_diff\" : \"rate_diff_1\", \"mmr\" : \"mmr_1\", \"input_type\" : \"input_type_1\"})\n",
    "player2_data = sample2.rename(columns={'profile_id': 'player_id_2', \"result\" : 'result_2', \"civilization\" : \"civ_2\", \"civilization_randomized\": \"random_civ_2\",\n",
    "                                        \"rating\": \"rating_2\", \"rating_diff\" : \"rate_diff_2\", \"mmr\" : \"mmr_2\", \"input_type\" : \"input_type_2\"})\n",
    "teamdata = pd.concat([player1_data, player2_data], axis=1)\n",
    "print(teamdata)"
   ]
  },
  {
   "cell_type": "code",
   "execution_count": null,
   "metadata": {},
   "outputs": [],
   "source": [
    "frame  = teamdata\n",
    "frame = frame[(frame['civ_1'] != 'unknown') & (frame['civ_2'] != 'unknown') & frame['result_1'].isin(['win', 'loss']) & frame['result_2'].isin(['win', 'loss']) ]\n",
    "frame['p1_wins'] = frame['result_1'] == 'win'\n",
    "frame['p2_wins'] = frame['result_2'] == 'win'\n",
    "success_rate = frame.groupby(['civ_1', 'civ_2'])['p1_wins'].mean().unstack()\n",
    "print(success_rate)\n"
   ]
  },
  {
   "cell_type": "code",
   "execution_count": 46,
   "metadata": {},
   "outputs": [
    {
     "name": "stdout",
     "output_type": "stream",
     "text": [
      "civ_1            civ_2              \n",
      "abbasid_dynasty  abbasid_dynasty        0.467975\n",
      "                 ayyubids               0.395062\n",
      "                 byzantines             0.477362\n",
      "                 chinese                0.464075\n",
      "                 delhi_sultanate        0.453099\n",
      "                                          ...   \n",
      "zhu_xis_legacy   mongols                0.480408\n",
      "                 order_of_the_dragon    0.510728\n",
      "                 ottomans               0.490442\n",
      "                 rus                    0.495631\n",
      "                 zhu_xis_legacy         0.480876\n",
      "Name: p1_wins, Length: 256, dtype: float64\n"
     ]
    }
   ],
   "source": [
    "lol = frame.groupby(['civ_1', 'civ_2'])['p1_wins'].mean()\n",
    "print(lol)"
   ]
  },
  {
   "cell_type": "code",
   "execution_count": 47,
   "metadata": {},
   "outputs": [
    {
     "name": "stdout",
     "output_type": "stream",
     "text": [
      "civ_2            civ_1              \n",
      "abbasid_dynasty  abbasid_dynasty        0.532025\n",
      "                 ayyubids               0.471033\n",
      "                 byzantines             0.565338\n",
      "                 chinese                0.554261\n",
      "                 delhi_sultanate        0.537143\n",
      "                                          ...   \n",
      "zhu_xis_legacy   mongols                0.539336\n",
      "                 order_of_the_dragon    0.563978\n",
      "                 ottomans               0.546029\n",
      "                 rus                    0.569843\n",
      "                 zhu_xis_legacy         0.519124\n",
      "Name: p2_wins, Length: 256, dtype: float64\n"
     ]
    }
   ],
   "source": [
    "lol2 = frame.groupby(['civ_2', 'civ_1'])['p2_wins'].mean()\n",
    "print(lol2)"
   ]
  },
  {
   "cell_type": "code",
   "execution_count": 50,
   "metadata": {},
   "outputs": [
    {
     "name": "stdout",
     "output_type": "stream",
     "text": [
      "civ_2                abbasid_dynasty  ayyubids  byzantines   chinese  \\\n",
      "civ_1                                                                  \n",
      "abbasid_dynasty             0.500000  0.433047    0.521350  0.509168   \n",
      "ayyubids                    0.566953  0.500000    0.606122  0.586019   \n",
      "byzantines                  0.478650  0.393878    0.500000  0.512931   \n",
      "chinese                     0.490832  0.413981    0.487069  0.500000   \n",
      "delhi_sultanate             0.504879  0.458412    0.535489  0.523893   \n",
      "english                     0.545120  0.473042    0.524695  0.532039   \n",
      "french                      0.470307  0.400573    0.501799  0.527805   \n",
      "holy_roman_empire           0.528417  0.414595    0.502354  0.549345   \n",
      "japanese                    0.527215  0.419312    0.540602  0.581622   \n",
      "jeanne_darc                 0.546557  0.466789    0.598029  0.583540   \n",
      "malians                     0.463208  0.472194    0.480874  0.514454   \n",
      "mongols                     0.505310  0.470425    0.544813  0.525913   \n",
      "order_of_the_dragon         0.519714  0.453739    0.536881  0.552976   \n",
      "ottomans                    0.537371  0.500357    0.586454  0.546437   \n",
      "rus                         0.464008  0.434732    0.485071  0.509596   \n",
      "zhu_xis_legacy              0.576575  0.475346    0.560398  0.560163   \n",
      "\n",
      "civ_2                delhi_sultanate   english    french  holy_roman_empire  \\\n",
      "civ_1                                                                         \n",
      "abbasid_dynasty             0.495121  0.454880  0.529693           0.471583   \n",
      "ayyubids                    0.541588  0.526958  0.599427           0.585405   \n",
      "byzantines                  0.464511  0.475305  0.498201           0.497646   \n",
      "chinese                     0.476107  0.467961  0.472195           0.450655   \n",
      "delhi_sultanate             0.500000  0.555429  0.539164           0.511419   \n",
      "english                     0.444571  0.500000  0.497008           0.482046   \n",
      "french                      0.460836  0.502992  0.500000           0.525822   \n",
      "holy_roman_empire           0.488581  0.517954  0.474178           0.500000   \n",
      "japanese                    0.549898  0.506076  0.515398           0.544312   \n",
      "jeanne_darc                 0.577624  0.578642  0.577685           0.604953   \n",
      "malians                     0.448573  0.472826  0.555744           0.545103   \n",
      "mongols                     0.486584  0.502175  0.590863           0.536508   \n",
      "order_of_the_dragon         0.473453  0.527767  0.549637           0.555430   \n",
      "ottomans                    0.567644  0.487245  0.585241           0.523307   \n",
      "rus                         0.474967  0.517605  0.526649           0.491834   \n",
      "zhu_xis_legacy              0.523214  0.511410  0.522550           0.549900   \n",
      "\n",
      "civ_2                japanese  jeanne_darc   malians   mongols  \\\n",
      "civ_1                                                            \n",
      "abbasid_dynasty      0.472785     0.453443  0.536792  0.494690   \n",
      "ayyubids             0.580688     0.533211  0.527806  0.529575   \n",
      "byzantines           0.459398     0.401971  0.519126  0.455187   \n",
      "chinese              0.418378     0.416460  0.485546  0.474087   \n",
      "delhi_sultanate      0.450102     0.422376  0.551427  0.513416   \n",
      "english              0.493924     0.421358  0.527174  0.497825   \n",
      "french               0.484602     0.422315  0.444256  0.409137   \n",
      "holy_roman_empire    0.455688     0.395047  0.454897  0.463492   \n",
      "japanese             0.500000     0.431029  0.515124  0.475482   \n",
      "jeanne_darc          0.568971     0.500000  0.519725  0.493529   \n",
      "malians              0.484876     0.480275  0.500000  0.472944   \n",
      "mongols              0.524518     0.506471  0.527056  0.500000   \n",
      "order_of_the_dragon  0.488083     0.475137  0.487560  0.509044   \n",
      "ottomans             0.504054     0.536774  0.602931  0.559591   \n",
      "rus                  0.453891     0.493339  0.446642  0.534777   \n",
      "zhu_xis_legacy       0.516468     0.433606  0.538602  0.509872   \n",
      "\n",
      "civ_2                order_of_the_dragon  ottomans       rus  zhu_xis_legacy  \n",
      "civ_1                                                                         \n",
      "abbasid_dynasty                 0.480286  0.462629  0.535992        0.423425  \n",
      "ayyubids                        0.546261  0.499643  0.565268        0.524654  \n",
      "byzantines                      0.463119  0.413546  0.514929        0.439602  \n",
      "chinese                         0.447024  0.453563  0.490404        0.439837  \n",
      "delhi_sultanate                 0.526547  0.432356  0.525033        0.476786  \n",
      "english                         0.472233  0.512755  0.482395        0.488590  \n",
      "french                          0.450363  0.414759  0.473351        0.477450  \n",
      "holy_roman_empire               0.444570  0.476693  0.508166        0.450100  \n",
      "japanese                        0.511917  0.495946  0.546109        0.483532  \n",
      "jeanne_darc                     0.524863  0.463226  0.506661        0.566394  \n",
      "malians                         0.512440  0.397069  0.553358        0.461398  \n",
      "mongols                         0.490956  0.440409  0.465223        0.490128  \n",
      "order_of_the_dragon             0.500000  0.471591  0.503782        0.462647  \n",
      "ottomans                        0.528409  0.500000  0.582286        0.481765  \n",
      "rus                             0.496218  0.417714  0.500000        0.467263  \n",
      "zhu_xis_legacy                  0.537353  0.518235  0.532737        0.500000  \n"
     ]
    }
   ],
   "source": [
    "success_rate = (lol + lol2)/2\n",
    "success_rate = success_rate.unstack()\n",
    "print(success_rate)"
   ]
  },
  {
   "cell_type": "code",
   "execution_count": 51,
   "metadata": {},
   "outputs": [
    {
     "data": {
      "application/vnd.plotly.v1+json": {
       "config": {
        "plotlyServerURL": "https://plot.ly"
       },
       "data": [
        {
         "colorbar": {
          "title": {
           "text": "Success Rate"
          }
         },
         "colorscale": [
          [
           0,
           "#440154"
          ],
          [
           0.1111111111111111,
           "#482878"
          ],
          [
           0.2222222222222222,
           "#3e4989"
          ],
          [
           0.3333333333333333,
           "#31688e"
          ],
          [
           0.4444444444444444,
           "#26828e"
          ],
          [
           0.5555555555555556,
           "#1f9e89"
          ],
          [
           0.6666666666666666,
           "#35b779"
          ],
          [
           0.7777777777777778,
           "#6ece58"
          ],
          [
           0.8888888888888888,
           "#b5de2b"
          ],
          [
           1,
           "#fde725"
          ]
         ],
         "type": "heatmap",
         "x": [
          "abbasid_dynasty",
          "ayyubids",
          "byzantines",
          "chinese",
          "delhi_sultanate",
          "english",
          "french",
          "holy_roman_empire",
          "japanese",
          "jeanne_darc",
          "malians",
          "mongols",
          "order_of_the_dragon",
          "ottomans",
          "rus",
          "zhu_xis_legacy"
         ],
         "y": [
          "abbasid_dynasty",
          "ayyubids",
          "byzantines",
          "chinese",
          "delhi_sultanate",
          "english",
          "french",
          "holy_roman_empire",
          "japanese",
          "jeanne_darc",
          "malians",
          "mongols",
          "order_of_the_dragon",
          "ottomans",
          "rus",
          "zhu_xis_legacy"
         ],
         "z": [
          [
           0.5,
           0.4330472369935006,
           0.5213500798318754,
           0.5091682861288103,
           0.49512084230677195,
           0.45488008957253306,
           0.5296927629325487,
           0.47158306488725266,
           0.47278540521941526,
           0.4534426925731273,
           0.5367920749687515,
           0.4946900224381678,
           0.48028572155859983,
           0.46262925855903225,
           0.535992098786321,
           0.4234245407740496
          ],
          [
           0.5669527630064994,
           0.5,
           0.6061218955772263,
           0.5860186975878816,
           0.5415884675813238,
           0.5269579601087571,
           0.5994270935347434,
           0.5854046097748637,
           0.5806878321719586,
           0.5332105333088395,
           0.5278057302645657,
           0.5295749780012717,
           0.546260725492808,
           0.49964296229686106,
           0.5652683490207283,
           0.5246542914657307
          ],
          [
           0.4786499201681246,
           0.3938781044227737,
           0.5,
           0.5129313085369134,
           0.46451071543204714,
           0.47530452629726194,
           0.4982006087346581,
           0.49764612080438825,
           0.45939788300713746,
           0.40197051784065685,
           0.5191257778633928,
           0.4551869212289148,
           0.4631190374096867,
           0.4135458579609739,
           0.5149293305108303,
           0.4396018894169281
          ],
          [
           0.49083171387118973,
           0.4139813024121184,
           0.4870686914630866,
           0.5,
           0.4761065359022616,
           0.46796056019588017,
           0.47219485235605263,
           0.4506548008437745,
           0.41837779346240367,
           0.4164600479005379,
           0.4855464282973702,
           0.4740866524171776,
           0.44702350040326905,
           0.4535634644377948,
           0.4904038454866022,
           0.4398365908450377
          ],
          [
           0.5048791576932281,
           0.45841153241867616,
           0.5354892845679529,
           0.5238934640977384,
           0.5,
           0.5554291587612143,
           0.5391639539533154,
           0.5114188467657897,
           0.4501023684091031,
           0.422375677474565,
           0.551426694526755,
           0.5134155787896607,
           0.5265473081534937,
           0.4323564774826598,
           0.525032596327029,
           0.4767861708881326
          ],
          [
           0.5451199104274669,
           0.473042039891243,
           0.5246954737027381,
           0.5320394398041198,
           0.4445708412387856,
           0.5,
           0.4970076709145612,
           0.4820464691586481,
           0.49392366901840423,
           0.4213579040950565,
           0.5271737705081363,
           0.4978250569100666,
           0.47223302072366824,
           0.5127551416334484,
           0.4823953398283509,
           0.4885896274939582
          ],
          [
           0.47030723706745137,
           0.4005729064652567,
           0.5017993912653419,
           0.5278051476439474,
           0.4608360460466847,
           0.5029923290854388,
           0.5,
           0.5258221642781867,
           0.4846021529993304,
           0.42231450214740124,
           0.44425647983367356,
           0.40913680942964303,
           0.45036341968834703,
           0.4147590664958115,
           0.4733511708902063,
           0.47744990973779255
          ],
          [
           0.5284169351127473,
           0.41459539022513636,
           0.5023538791956117,
           0.5493451991562255,
           0.48858115323421025,
           0.5179535308413519,
           0.47417783572181327,
           0.5,
           0.45568820087191486,
           0.39504712597689257,
           0.45489675269758134,
           0.4634915632633225,
           0.4445702279548467,
           0.4766929787791665,
           0.5081659518080692,
           0.45009989640024395
          ],
          [
           0.5272145947805847,
           0.41931216782804137,
           0.5406021169928625,
           0.5816222065375963,
           0.5498976315908969,
           0.5060763309815958,
           0.5153978470006696,
           0.5443117991280851,
           0.5,
           0.4310291161916171,
           0.5151244815647064,
           0.47548206106481616,
           0.5119171996184755,
           0.49594604878244253,
           0.5461085844102926,
           0.4835318475646991
          ],
          [
           0.5465573074268726,
           0.4667894666911604,
           0.5980294821593432,
           0.5835399520994621,
           0.577624322525435,
           0.5786420959049434,
           0.5776854978525987,
           0.6049528740231075,
           0.5689708838083829,
           0.5,
           0.5197248254770608,
           0.4935292417793342,
           0.5248626439325972,
           0.4632257537404225,
           0.5066612856334001,
           0.5663938036326546
          ],
          [
           0.4632079250312485,
           0.4721942697354343,
           0.48087422213660724,
           0.5144535717026298,
           0.44857330547324503,
           0.4728262294918637,
           0.5557435201663264,
           0.5451032473024187,
           0.48487551843529364,
           0.48027517452293916,
           0.5,
           0.472943796099326,
           0.5124404561576099,
           0.3970685485486576,
           0.5533582187524615,
           0.46139775126233457
          ],
          [
           0.5053099775618322,
           0.47042502199872827,
           0.5448130787710852,
           0.5259133475828224,
           0.4865844212103393,
           0.5021749430899334,
           0.590863190570357,
           0.5365084367366775,
           0.5245179389351838,
           0.5064707582206658,
           0.527056203900674,
           0.5,
           0.49095590579201875,
           0.4404091215376753,
           0.465222989977098,
           0.4901280604868232
          ],
          [
           0.5197142784414002,
           0.453739274507192,
           0.5368809625903133,
           0.552976499596731,
           0.47345269184650624,
           0.5277669792763318,
           0.549636580311653,
           0.5554297720451533,
           0.4880828003815246,
           0.47513735606740287,
           0.48755954384239,
           0.5090440942079812,
           0.5,
           0.47159061208279673,
           0.5037822544051309,
           0.4626467932304914
          ],
          [
           0.5373707414409677,
           0.500357037703139,
           0.5864541420390261,
           0.5464365355622052,
           0.5676435225173402,
           0.48724485836655157,
           0.5852409335041885,
           0.5233070212208335,
           0.5040539512175575,
           0.5367742462595775,
           0.6029314514513424,
           0.5595908784623247,
           0.5284093879172033,
           0.5,
           0.5822858472998138,
           0.48176457680555307
          ],
          [
           0.46400790121367896,
           0.4347316509792717,
           0.48507066948916977,
           0.5095961545133978,
           0.47496740367297097,
           0.5176046601716491,
           0.5266488291097937,
           0.4918340481919308,
           0.45389141558970736,
           0.4933387143665998,
           0.44664178124753845,
           0.534777010022902,
           0.496217745594869,
           0.4177141527001862,
           0.5,
           0.467262727742929
          ],
          [
           0.5765754592259503,
           0.4753457085342693,
           0.5603981105830718,
           0.5601634091549623,
           0.5232138291118674,
           0.5114103725060418,
           0.5225500902622073,
           0.5499001035997562,
           0.5164681524353009,
           0.43360619636734543,
           0.5386022487376654,
           0.5098719395131768,
           0.5373532067695086,
           0.5182354231944469,
           0.532737272257071,
           0.5
          ]
         ]
        }
       ],
       "layout": {
        "template": {
         "data": {
          "bar": [
           {
            "error_x": {
             "color": "#2a3f5f"
            },
            "error_y": {
             "color": "#2a3f5f"
            },
            "marker": {
             "line": {
              "color": "#E5ECF6",
              "width": 0.5
             },
             "pattern": {
              "fillmode": "overlay",
              "size": 10,
              "solidity": 0.2
             }
            },
            "type": "bar"
           }
          ],
          "barpolar": [
           {
            "marker": {
             "line": {
              "color": "#E5ECF6",
              "width": 0.5
             },
             "pattern": {
              "fillmode": "overlay",
              "size": 10,
              "solidity": 0.2
             }
            },
            "type": "barpolar"
           }
          ],
          "carpet": [
           {
            "aaxis": {
             "endlinecolor": "#2a3f5f",
             "gridcolor": "white",
             "linecolor": "white",
             "minorgridcolor": "white",
             "startlinecolor": "#2a3f5f"
            },
            "baxis": {
             "endlinecolor": "#2a3f5f",
             "gridcolor": "white",
             "linecolor": "white",
             "minorgridcolor": "white",
             "startlinecolor": "#2a3f5f"
            },
            "type": "carpet"
           }
          ],
          "choropleth": [
           {
            "colorbar": {
             "outlinewidth": 0,
             "ticks": ""
            },
            "type": "choropleth"
           }
          ],
          "contour": [
           {
            "colorbar": {
             "outlinewidth": 0,
             "ticks": ""
            },
            "colorscale": [
             [
              0,
              "#0d0887"
             ],
             [
              0.1111111111111111,
              "#46039f"
             ],
             [
              0.2222222222222222,
              "#7201a8"
             ],
             [
              0.3333333333333333,
              "#9c179e"
             ],
             [
              0.4444444444444444,
              "#bd3786"
             ],
             [
              0.5555555555555556,
              "#d8576b"
             ],
             [
              0.6666666666666666,
              "#ed7953"
             ],
             [
              0.7777777777777778,
              "#fb9f3a"
             ],
             [
              0.8888888888888888,
              "#fdca26"
             ],
             [
              1,
              "#f0f921"
             ]
            ],
            "type": "contour"
           }
          ],
          "contourcarpet": [
           {
            "colorbar": {
             "outlinewidth": 0,
             "ticks": ""
            },
            "type": "contourcarpet"
           }
          ],
          "heatmap": [
           {
            "colorbar": {
             "outlinewidth": 0,
             "ticks": ""
            },
            "colorscale": [
             [
              0,
              "#0d0887"
             ],
             [
              0.1111111111111111,
              "#46039f"
             ],
             [
              0.2222222222222222,
              "#7201a8"
             ],
             [
              0.3333333333333333,
              "#9c179e"
             ],
             [
              0.4444444444444444,
              "#bd3786"
             ],
             [
              0.5555555555555556,
              "#d8576b"
             ],
             [
              0.6666666666666666,
              "#ed7953"
             ],
             [
              0.7777777777777778,
              "#fb9f3a"
             ],
             [
              0.8888888888888888,
              "#fdca26"
             ],
             [
              1,
              "#f0f921"
             ]
            ],
            "type": "heatmap"
           }
          ],
          "heatmapgl": [
           {
            "colorbar": {
             "outlinewidth": 0,
             "ticks": ""
            },
            "colorscale": [
             [
              0,
              "#0d0887"
             ],
             [
              0.1111111111111111,
              "#46039f"
             ],
             [
              0.2222222222222222,
              "#7201a8"
             ],
             [
              0.3333333333333333,
              "#9c179e"
             ],
             [
              0.4444444444444444,
              "#bd3786"
             ],
             [
              0.5555555555555556,
              "#d8576b"
             ],
             [
              0.6666666666666666,
              "#ed7953"
             ],
             [
              0.7777777777777778,
              "#fb9f3a"
             ],
             [
              0.8888888888888888,
              "#fdca26"
             ],
             [
              1,
              "#f0f921"
             ]
            ],
            "type": "heatmapgl"
           }
          ],
          "histogram": [
           {
            "marker": {
             "pattern": {
              "fillmode": "overlay",
              "size": 10,
              "solidity": 0.2
             }
            },
            "type": "histogram"
           }
          ],
          "histogram2d": [
           {
            "colorbar": {
             "outlinewidth": 0,
             "ticks": ""
            },
            "colorscale": [
             [
              0,
              "#0d0887"
             ],
             [
              0.1111111111111111,
              "#46039f"
             ],
             [
              0.2222222222222222,
              "#7201a8"
             ],
             [
              0.3333333333333333,
              "#9c179e"
             ],
             [
              0.4444444444444444,
              "#bd3786"
             ],
             [
              0.5555555555555556,
              "#d8576b"
             ],
             [
              0.6666666666666666,
              "#ed7953"
             ],
             [
              0.7777777777777778,
              "#fb9f3a"
             ],
             [
              0.8888888888888888,
              "#fdca26"
             ],
             [
              1,
              "#f0f921"
             ]
            ],
            "type": "histogram2d"
           }
          ],
          "histogram2dcontour": [
           {
            "colorbar": {
             "outlinewidth": 0,
             "ticks": ""
            },
            "colorscale": [
             [
              0,
              "#0d0887"
             ],
             [
              0.1111111111111111,
              "#46039f"
             ],
             [
              0.2222222222222222,
              "#7201a8"
             ],
             [
              0.3333333333333333,
              "#9c179e"
             ],
             [
              0.4444444444444444,
              "#bd3786"
             ],
             [
              0.5555555555555556,
              "#d8576b"
             ],
             [
              0.6666666666666666,
              "#ed7953"
             ],
             [
              0.7777777777777778,
              "#fb9f3a"
             ],
             [
              0.8888888888888888,
              "#fdca26"
             ],
             [
              1,
              "#f0f921"
             ]
            ],
            "type": "histogram2dcontour"
           }
          ],
          "mesh3d": [
           {
            "colorbar": {
             "outlinewidth": 0,
             "ticks": ""
            },
            "type": "mesh3d"
           }
          ],
          "parcoords": [
           {
            "line": {
             "colorbar": {
              "outlinewidth": 0,
              "ticks": ""
             }
            },
            "type": "parcoords"
           }
          ],
          "pie": [
           {
            "automargin": true,
            "type": "pie"
           }
          ],
          "scatter": [
           {
            "fillpattern": {
             "fillmode": "overlay",
             "size": 10,
             "solidity": 0.2
            },
            "type": "scatter"
           }
          ],
          "scatter3d": [
           {
            "line": {
             "colorbar": {
              "outlinewidth": 0,
              "ticks": ""
             }
            },
            "marker": {
             "colorbar": {
              "outlinewidth": 0,
              "ticks": ""
             }
            },
            "type": "scatter3d"
           }
          ],
          "scattercarpet": [
           {
            "marker": {
             "colorbar": {
              "outlinewidth": 0,
              "ticks": ""
             }
            },
            "type": "scattercarpet"
           }
          ],
          "scattergeo": [
           {
            "marker": {
             "colorbar": {
              "outlinewidth": 0,
              "ticks": ""
             }
            },
            "type": "scattergeo"
           }
          ],
          "scattergl": [
           {
            "marker": {
             "colorbar": {
              "outlinewidth": 0,
              "ticks": ""
             }
            },
            "type": "scattergl"
           }
          ],
          "scattermapbox": [
           {
            "marker": {
             "colorbar": {
              "outlinewidth": 0,
              "ticks": ""
             }
            },
            "type": "scattermapbox"
           }
          ],
          "scatterpolar": [
           {
            "marker": {
             "colorbar": {
              "outlinewidth": 0,
              "ticks": ""
             }
            },
            "type": "scatterpolar"
           }
          ],
          "scatterpolargl": [
           {
            "marker": {
             "colorbar": {
              "outlinewidth": 0,
              "ticks": ""
             }
            },
            "type": "scatterpolargl"
           }
          ],
          "scatterternary": [
           {
            "marker": {
             "colorbar": {
              "outlinewidth": 0,
              "ticks": ""
             }
            },
            "type": "scatterternary"
           }
          ],
          "surface": [
           {
            "colorbar": {
             "outlinewidth": 0,
             "ticks": ""
            },
            "colorscale": [
             [
              0,
              "#0d0887"
             ],
             [
              0.1111111111111111,
              "#46039f"
             ],
             [
              0.2222222222222222,
              "#7201a8"
             ],
             [
              0.3333333333333333,
              "#9c179e"
             ],
             [
              0.4444444444444444,
              "#bd3786"
             ],
             [
              0.5555555555555556,
              "#d8576b"
             ],
             [
              0.6666666666666666,
              "#ed7953"
             ],
             [
              0.7777777777777778,
              "#fb9f3a"
             ],
             [
              0.8888888888888888,
              "#fdca26"
             ],
             [
              1,
              "#f0f921"
             ]
            ],
            "type": "surface"
           }
          ],
          "table": [
           {
            "cells": {
             "fill": {
              "color": "#EBF0F8"
             },
             "line": {
              "color": "white"
             }
            },
            "header": {
             "fill": {
              "color": "#C8D4E3"
             },
             "line": {
              "color": "white"
             }
            },
            "type": "table"
           }
          ]
         },
         "layout": {
          "annotationdefaults": {
           "arrowcolor": "#2a3f5f",
           "arrowhead": 0,
           "arrowwidth": 1
          },
          "autotypenumbers": "strict",
          "coloraxis": {
           "colorbar": {
            "outlinewidth": 0,
            "ticks": ""
           }
          },
          "colorscale": {
           "diverging": [
            [
             0,
             "#8e0152"
            ],
            [
             0.1,
             "#c51b7d"
            ],
            [
             0.2,
             "#de77ae"
            ],
            [
             0.3,
             "#f1b6da"
            ],
            [
             0.4,
             "#fde0ef"
            ],
            [
             0.5,
             "#f7f7f7"
            ],
            [
             0.6,
             "#e6f5d0"
            ],
            [
             0.7,
             "#b8e186"
            ],
            [
             0.8,
             "#7fbc41"
            ],
            [
             0.9,
             "#4d9221"
            ],
            [
             1,
             "#276419"
            ]
           ],
           "sequential": [
            [
             0,
             "#0d0887"
            ],
            [
             0.1111111111111111,
             "#46039f"
            ],
            [
             0.2222222222222222,
             "#7201a8"
            ],
            [
             0.3333333333333333,
             "#9c179e"
            ],
            [
             0.4444444444444444,
             "#bd3786"
            ],
            [
             0.5555555555555556,
             "#d8576b"
            ],
            [
             0.6666666666666666,
             "#ed7953"
            ],
            [
             0.7777777777777778,
             "#fb9f3a"
            ],
            [
             0.8888888888888888,
             "#fdca26"
            ],
            [
             1,
             "#f0f921"
            ]
           ],
           "sequentialminus": [
            [
             0,
             "#0d0887"
            ],
            [
             0.1111111111111111,
             "#46039f"
            ],
            [
             0.2222222222222222,
             "#7201a8"
            ],
            [
             0.3333333333333333,
             "#9c179e"
            ],
            [
             0.4444444444444444,
             "#bd3786"
            ],
            [
             0.5555555555555556,
             "#d8576b"
            ],
            [
             0.6666666666666666,
             "#ed7953"
            ],
            [
             0.7777777777777778,
             "#fb9f3a"
            ],
            [
             0.8888888888888888,
             "#fdca26"
            ],
            [
             1,
             "#f0f921"
            ]
           ]
          },
          "colorway": [
           "#636efa",
           "#EF553B",
           "#00cc96",
           "#ab63fa",
           "#FFA15A",
           "#19d3f3",
           "#FF6692",
           "#B6E880",
           "#FF97FF",
           "#FECB52"
          ],
          "font": {
           "color": "#2a3f5f"
          },
          "geo": {
           "bgcolor": "white",
           "lakecolor": "white",
           "landcolor": "#E5ECF6",
           "showlakes": true,
           "showland": true,
           "subunitcolor": "white"
          },
          "hoverlabel": {
           "align": "left"
          },
          "hovermode": "closest",
          "mapbox": {
           "style": "light"
          },
          "paper_bgcolor": "white",
          "plot_bgcolor": "#E5ECF6",
          "polar": {
           "angularaxis": {
            "gridcolor": "white",
            "linecolor": "white",
            "ticks": ""
           },
           "bgcolor": "#E5ECF6",
           "radialaxis": {
            "gridcolor": "white",
            "linecolor": "white",
            "ticks": ""
           }
          },
          "scene": {
           "xaxis": {
            "backgroundcolor": "#E5ECF6",
            "gridcolor": "white",
            "gridwidth": 2,
            "linecolor": "white",
            "showbackground": true,
            "ticks": "",
            "zerolinecolor": "white"
           },
           "yaxis": {
            "backgroundcolor": "#E5ECF6",
            "gridcolor": "white",
            "gridwidth": 2,
            "linecolor": "white",
            "showbackground": true,
            "ticks": "",
            "zerolinecolor": "white"
           },
           "zaxis": {
            "backgroundcolor": "#E5ECF6",
            "gridcolor": "white",
            "gridwidth": 2,
            "linecolor": "white",
            "showbackground": true,
            "ticks": "",
            "zerolinecolor": "white"
           }
          },
          "shapedefaults": {
           "line": {
            "color": "#2a3f5f"
           }
          },
          "ternary": {
           "aaxis": {
            "gridcolor": "white",
            "linecolor": "white",
            "ticks": ""
           },
           "baxis": {
            "gridcolor": "white",
            "linecolor": "white",
            "ticks": ""
           },
           "bgcolor": "#E5ECF6",
           "caxis": {
            "gridcolor": "white",
            "linecolor": "white",
            "ticks": ""
           }
          },
          "title": {
           "x": 0.05
          },
          "xaxis": {
           "automargin": true,
           "gridcolor": "white",
           "linecolor": "white",
           "ticks": "",
           "title": {
            "standoff": 15
           },
           "zerolinecolor": "white",
           "zerolinewidth": 2
          },
          "yaxis": {
           "automargin": true,
           "gridcolor": "white",
           "linecolor": "white",
           "ticks": "",
           "title": {
            "standoff": 15
           },
           "zerolinecolor": "white",
           "zerolinewidth": 2
          }
         }
        },
        "title": {
         "text": "Success Rate of p1 vs p2 by Civilization"
        },
        "xaxis": {
         "title": {
          "text": "Civ_2"
         }
        },
        "yaxis": {
         "title": {
          "text": "Civ_1"
         }
        }
       }
      }
     },
     "metadata": {},
     "output_type": "display_data"
    }
   ],
   "source": [
    "# Create a heatmap\n",
    "fig = go.Figure(data=go.Heatmap(\n",
    "    z=success_rate.values,\n",
    "    x=success_rate.columns,\n",
    "    y=success_rate.index,\n",
    "    colorscale='Viridis',\n",
    "    colorbar=dict(title='Success Rate'),\n",
    "))\n",
    "\n",
    "# Customize layout\n",
    "fig.update_layout(\n",
    "    title='Success Rate of p1 vs p2 by Civilization',\n",
    "    xaxis_title='Civ_2',\n",
    "    yaxis_title='Civ_1',\n",
    ")\n",
    "\n",
    "# Show the plot\n",
    "fig.show()"
   ]
  },
  {
   "cell_type": "code",
   "execution_count": null,
   "metadata": {},
   "outputs": [],
   "source": [
    "win_loss_counts['win_loss_ratio'] = win_loss_counts['win'] / win_loss_counts['loss']\n",
    "\n",
    "fig = go.Figure(go.Bar(\n",
    "    y=win_loss_counts.index,\n",
    "    x=win_loss_counts['win_loss_ratio'],\n",
    "    orientation='h'\n",
    "))\n",
    "\n",
    "# Customize layout\n",
    "fig.update_layout(\n",
    "    title='Win/Loss Ratio by Civilization',\n",
    "    xaxis_title='Win/Loss Ratio',\n",
    "    yaxis_title='Civilization',\n",
    "    yaxis={'categoryorder':'total ascending'}\n",
    ")\n",
    "\n",
    "# Show the plot\n",
    "fig.show()"
   ]
  },
  {
   "cell_type": "code",
   "execution_count": null,
   "metadata": {},
   "outputs": [],
   "source": [
    "app = dash.Dash(__name__)\n",
    "app.layout = html.Div([\n",
    "    html.H1(\"Average MMR by Civilization\"),\n",
    "    dcc.Graph(\n",
    "        id='civilization-mmr-bar-chart',\n",
    "        figure={\n",
    "            'data': [\n",
    "                go.Bar(\n",
    "                    x=avg_mmr_by_civilization['civilization'],\n",
    "                    y=avg_mmr_by_civilization['mmr'],\n",
    "                    marker=dict(color=avg_mmr_by_civilization['mmr']),\n",
    "                    hoverinfo='y'\n",
    "                )\n",
    "            ],\n",
    "            'layout': {\n",
    "                'title': 'Average MMR by Civilization',\n",
    "                'xaxis': {'title': 'Civilization'},\n",
    "                'yaxis': {'title': 'Average MMR'}\n",
    "            }\n",
    "        }\n",
    "    )\n",
    "])\n",
    "\n",
    "# Run the Dash application\n",
    "# if __name__ == '__main__':\n"
   ]
  },
  {
   "cell_type": "code",
   "execution_count": null,
   "metadata": {},
   "outputs": [],
   "source": [
    "app.run_server(debug=True)"
   ]
  }
 ],
 "metadata": {
  "kernelspec": {
   "display_name": "Python 3",
   "language": "python",
   "name": "python3"
  },
  "language_info": {
   "codemirror_mode": {
    "name": "ipython",
    "version": 3
   },
   "file_extension": ".py",
   "mimetype": "text/x-python",
   "name": "python",
   "nbconvert_exporter": "python",
   "pygments_lexer": "ipython3",
   "version": "3.12.2"
  }
 },
 "nbformat": 4,
 "nbformat_minor": 2
}
