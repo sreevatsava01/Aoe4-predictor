{
 "cells": [
  {
   "cell_type": "code",
   "execution_count": 1,
   "metadata": {},
   "outputs": [],
   "source": [
    "import requests\n",
    "import json\n",
    "import time\n",
    "import datetime\n",
    "import random\n",
    "import os\n"
   ]
  },
  {
   "cell_type": "code",
   "execution_count": 2,
   "metadata": {},
   "outputs": [
    {
     "name": "stdout",
     "output_type": "stream",
     "text": [
      "+---------------+--------+--------------------+--------+------+-------------+-------+---------+-------+--------------------+--------------------+\n",
      "|_corrupt_record|duration|         finished_at| game_id|  kind|          map| map_id|    patch| server|          started_at|               teams|\n",
      "+---------------+--------+--------------------+--------+------+-------------+-------+---------+-------+--------------------+--------------------+\n",
      "|              [|    NULL|                NULL|    NULL|  NULL|         NULL|   NULL|     NULL|   NULL|                NULL|                NULL|\n",
      "|           NULL|    1577|2023-11-15T18:33:...|96043210|rm_1v1|   Dry Arabia| 163361|9.1.176.0|     UK|2023-11-15T18:06:...|[[{rus, false, ke...|\n",
      "|           NULL|     913|2023-11-15T18:22:...|96043197|rm_1v1|Hidden Valley|2144600|9.1.176.0|     UK|2023-11-15T18:06:...|[[{mongols, false...|\n",
      "|           NULL|    1375|2023-11-15T18:30:...|96043326|rm_1v1|        Gorge|2135363|9.1.176.0|     UK|2023-11-15T18:07:...|[[{delhi_sultanat...|\n",
      "|           NULL|    1111|2023-11-15T18:26:...|96043357|rm_1v1|Hidden Valley|2144600|9.1.176.0|     UK|2023-11-15T18:07:...|[[{holy_roman_emp...|\n",
      "|           NULL|    1299|2023-11-15T18:30:...|96043589|rm_1v1|   Dry Arabia| 163361|9.1.176.0|     UK|2023-11-15T18:08:...|[[{japanese, fals...|\n",
      "|           NULL|    2035|2023-11-15T18:42:...|96043570|rm_1v1|  Rocky River|2141179|9.1.176.0|USA (E)|2023-11-15T18:08:...|[[{japanese, fals...|\n",
      "|           NULL|      69|2023-11-15T18:10:...|96043694|rm_1v1|   Golden Pit|2072090|9.1.176.0|USA (W)|2023-11-15T18:09:...|[[{byzantines, fa...|\n",
      "|           NULL|    1126|2023-11-15T18:27:...|96043684|rm_1v1|   Dry Arabia| 163361|9.1.176.0|USA (E)|2023-11-15T18:09:...|[[{byzantines, fa...|\n",
      "|           NULL|    3518|2023-11-15T19:08:...|96043837|rm_1v1|    Cliffside|2129132|9.1.176.0|     UK|2023-11-15T18:09:...|[[{malians, false...|\n",
      "+---------------+--------+--------------------+--------+------+-------------+-------+---------+-------+--------------------+--------------------+\n",
      "only showing top 10 rows\n",
      "\n"
     ]
    }
   ],
   "source": [
    "from pyspark.sql import SparkSession\n",
    "from pyspark.sql import SparkSession\n",
    "from pyspark.sql.functions import explode, col,regexp_replace, split\n",
    "from pyspark.sql.types import StructType, StructField, IntegerType\n",
    "from pyspark.sql.functions import monotonically_increasing_id\n",
    "\n",
    "# Create a Spark session\n",
    "spark = SparkSession.builder.appName(\"Load JSON Data\").getOrCreate()\n",
    "\n",
    "# Path to your JSON file\n",
    "test_json = \"./datadump/game.json\"\n",
    "json_file_path = \"./datadump/games_rm_1v1_s6.json\"\n",
    "\n",
    "# spark.read.json(spark.sparkContext.wholeTextFiles(json_file_path).values).show()\n",
    "df = spark.read.json(json_file_path)\n",
    "df.show(10)\n",
    "# print(df)\n",
    "# Creating separate columns for each team object within the teams_flat array\n",
    "# print(df)?s"
   ]
  },
  {
   "cell_type": "code",
   "execution_count": 3,
   "metadata": {},
   "outputs": [
    {
     "name": "stdout",
     "output_type": "stream",
     "text": [
      "+--------+-------------+------+-------+---------+-------------------------------------------------------------------------+-----------------------------------------------------------------------+\n",
      "|game_id |map          |kind  |server |patch    |team1                                                                    |team2                                                                  |\n",
      "+--------+-------------+------+-------+---------+-------------------------------------------------------------------------+-----------------------------------------------------------------------+\n",
      "|NULL    |NULL         |NULL  |NULL   |NULL     |NULL                                                                     |NULL                                                                   |\n",
      "|96043210|Dry Arabia   |rm_1v1|UK     |9.1.176.0|{rus, false, keyboard, NULL, NULL, 17518566, NULL, NULL, loss}           |{french, false, keyboard, NULL, NULL, 5391878, NULL, NULL, win}        |\n",
      "|96043197|Hidden Valley|rm_1v1|UK     |9.1.176.0|{mongols, false, keyboard, 873, NULL, 5149239, NULL, NULL, loss}         |{french, false, keyboard, 961, 12, 16883606, NULL, NULL, win}          |\n",
      "|96043326|Gorge        |rm_1v1|UK     |9.1.176.0|{delhi_sultanate, false, keyboard, 1073, 17, 15401344, NULL, NULL, win}  |{malians, true, NULL, 1104, -17, 9825729, NULL, NULL, loss}            |\n",
      "|96043357|Hidden Valley|rm_1v1|UK     |9.1.176.0|{holy_roman_empire, false, keyboard, 1120, -14, 797465, NULL, NULL, loss}|{japanese, false, keyboard, 1161, 14, 8695892, NULL, NULL, win}        |\n",
      "|96043589|Dry Arabia   |rm_1v1|UK     |9.1.176.0|{japanese, false, keyboard, 1045, 16, 11042963, NULL, NULL, win}         |{zhu_xis_legacy, false, keyboard, 1066, -16, 8388565, NULL, NULL, loss}|\n",
      "|96043570|Rocky River  |rm_1v1|USA (E)|9.1.176.0|{japanese, false, keyboard, 886, -15, 17493451, NULL, NULL, loss}        |{zhu_xis_legacy, false, keyboard, 903, 15, 6425631, NULL, NULL, win}   |\n",
      "|96043694|Golden Pit   |rm_1v1|USA (W)|9.1.176.0|{byzantines, false, keyboard, 1009, 18, 443692, NULL, NULL, win}         |{byzantines, false, keyboard, 1019, -16, 8604145, NULL, NULL, loss}    |\n",
      "|96043684|Dry Arabia   |rm_1v1|USA (E)|9.1.176.0|{byzantines, false, keyboard, 1084, -12, 4149773, NULL, NULL, loss}      |{japanese, false, keyboard, 1162, 12, 226987, NULL, NULL, win}         |\n",
      "|96043837|Cliffside    |rm_1v1|UK     |9.1.176.0|{malians, false, keyboard, 791, -13, 17292066, NULL, NULL, loss}         |{english, false, keyboard, 837, 13, 17286524, NULL, NULL, win}         |\n",
      "+--------+-------------+------+-------+---------+-------------------------------------------------------------------------+-----------------------------------------------------------------------+\n",
      "only showing top 10 rows\n",
      "\n"
     ]
    }
   ],
   "source": [
    "final_df = df.select(\n",
    "    col(\"game_id\"),\n",
    "    col(\"map\"),\n",
    "    col(\"kind\"),\n",
    "    col(\"server\"),\n",
    "    col(\"patch\"),\n",
    "    col(\"teams\")[0][0].alias(\"team1\"),\n",
    "    col(\"teams\")[1][0].alias(\"team2\")\n",
    ")\n",
    "final_df.show(10,truncate=False)"
   ]
  },
  {
   "cell_type": "code",
   "execution_count": 4,
   "metadata": {},
   "outputs": [
    {
     "name": "stdout",
     "output_type": "stream",
     "text": [
      "DataFrame[team1: struct<civilization:string,civilization_randomized:boolean,input_type:string,mmr:bigint,mmr_diff:bigint,profile_id:bigint,rating:bigint,rating_diff:bigint,result:string>]\n",
      "+-------------------+------------------------+-----------+----+---------+-----------+-------+------------+-------+\n",
      "|civilization1      |civilization_randomized1|input_type1|mmr1|mmr_diff1|profile_id1|rating1|rating_diff1|result1|\n",
      "+-------------------+------------------------+-----------+----+---------+-----------+-------+------------+-------+\n",
      "|NULL               |NULL                    |NULL       |NULL|NULL     |NULL       |NULL   |NULL        |NULL   |\n",
      "|rus                |false                   |keyboard   |NULL|NULL     |17518566   |NULL   |NULL        |loss   |\n",
      "|mongols            |false                   |keyboard   |873 |NULL     |5149239    |NULL   |NULL        |loss   |\n",
      "|delhi_sultanate    |false                   |keyboard   |1073|17       |15401344   |NULL   |NULL        |win    |\n",
      "|holy_roman_empire  |false                   |keyboard   |1120|-14      |797465     |NULL   |NULL        |loss   |\n",
      "|japanese           |false                   |keyboard   |1045|16       |11042963   |NULL   |NULL        |win    |\n",
      "|japanese           |false                   |keyboard   |886 |-15      |17493451   |NULL   |NULL        |loss   |\n",
      "|byzantines         |false                   |keyboard   |1009|18       |443692     |NULL   |NULL        |win    |\n",
      "|byzantines         |false                   |keyboard   |1084|-12      |4149773    |NULL   |NULL        |loss   |\n",
      "|malians            |false                   |keyboard   |791 |-13      |17292066   |NULL   |NULL        |loss   |\n",
      "|jeanne_darc        |false                   |keyboard   |1271|12       |1524605    |NULL   |NULL        |win    |\n",
      "|english            |false                   |keyboard   |1264|-14      |9639896    |NULL   |NULL        |loss   |\n",
      "|order_of_the_dragon|false                   |keyboard   |553 |-23      |9051584    |NULL   |NULL        |loss   |\n",
      "|english            |false                   |keyboard   |849 |13       |7467230    |NULL   |NULL        |win    |\n",
      "|english            |false                   |keyboard   |901 |-15      |13823718   |NULL   |NULL        |loss   |\n",
      "|japanese           |false                   |keyboard   |1023|-16      |6976933    |NULL   |NULL        |loss   |\n",
      "|japanese           |false                   |keyboard   |1420|-16      |462825     |NULL   |NULL        |loss   |\n",
      "|byzantines         |false                   |keyboard   |1027|-14      |443692     |NULL   |NULL        |loss   |\n",
      "|english            |false                   |keyboard   |1262|-14      |14944581   |NULL   |NULL        |loss   |\n",
      "|jeanne_darc        |false                   |keyboard   |2263|4        |1270139    |NULL   |NULL        |win    |\n",
      "+-------------------+------------------------+-----------+----+---------+-----------+-------+------------+-------+\n",
      "only showing top 20 rows\n",
      "\n"
     ]
    }
   ],
   "source": [
    "print(final_df.select(col('team1')))\n",
    "team1_df = final_df.select(\n",
    "    col(\"team1.civilization\").alias(\"civilization1\"),\n",
    "    col(\"team1.civilization_randomized\").alias(\"civilization_randomized1\"),\n",
    "    col(\"team1.input_type\").alias(\"input_type1\"),\n",
    "    col(\"team1.mmr\").alias(\"mmr1\"),\n",
    "    col(\"team1.mmr_diff\").alias(\"mmr_diff1\"),\n",
    "    col(\"team1.profile_id\").alias(\"profile_id1\"),\n",
    "    col(\"team1.rating\").alias(\"rating1\"),\n",
    "    col(\"team1.rating_diff\").alias(\"rating_diff1\"),\n",
    "    col(\"team1.result\").alias(\"result1\")\n",
    ")\n",
    "team1_df.show(truncate=False)"
   ]
  },
  {
   "cell_type": "code",
   "execution_count": 5,
   "metadata": {},
   "outputs": [
    {
     "name": "stdout",
     "output_type": "stream",
     "text": [
      "+-------------------+------------------------+-----------+----+---------+-----------+-------+------------+-------+\n",
      "|civilization2      |civilization_randomized2|input_type2|mmr2|mmr_diff2|profile_id2|rating2|rating_diff2|result2|\n",
      "+-------------------+------------------------+-----------+----+---------+-----------+-------+------------+-------+\n",
      "|NULL               |NULL                    |NULL       |NULL|NULL     |NULL       |NULL   |NULL        |NULL   |\n",
      "|french             |false                   |keyboard   |NULL|NULL     |5391878    |NULL   |NULL        |win    |\n",
      "|french             |false                   |keyboard   |961 |12       |16883606   |NULL   |NULL        |win    |\n",
      "|malians            |true                    |NULL       |1104|-17      |9825729    |NULL   |NULL        |loss   |\n",
      "|japanese           |false                   |keyboard   |1161|14       |8695892    |NULL   |NULL        |win    |\n",
      "|zhu_xis_legacy     |false                   |keyboard   |1066|-16      |8388565    |NULL   |NULL        |loss   |\n",
      "|zhu_xis_legacy     |false                   |keyboard   |903 |15       |6425631    |NULL   |NULL        |win    |\n",
      "|byzantines         |false                   |keyboard   |1019|-16      |8604145    |NULL   |NULL        |loss   |\n",
      "|japanese           |false                   |keyboard   |1162|12       |226987     |NULL   |NULL        |win    |\n",
      "|english            |false                   |keyboard   |837 |13       |17286524   |NULL   |NULL        |win    |\n",
      "|japanese           |false                   |keyboard   |1189|-12      |1424701    |NULL   |NULL        |loss   |\n",
      "|japanese           |false                   |keyboard   |1307|14       |11676227   |NULL   |NULL        |win    |\n",
      "|zhu_xis_legacy     |false                   |keyboard   |586 |14       |3488627    |NULL   |NULL        |win    |\n",
      "|ottomans           |false                   |keyboard   |NULL|NULL     |14350251   |NULL   |NULL        |loss   |\n",
      "|chinese            |false                   |keyboard   |904 |15       |7134114    |NULL   |NULL        |win    |\n",
      "|ayyubids           |false                   |keyboard   |1011|16       |694111     |NULL   |NULL        |win    |\n",
      "|ayyubids           |false                   |keyboard   |1409|16       |14860458   |NULL   |NULL        |win    |\n",
      "|zhu_xis_legacy     |false                   |keyboard   |1054|14       |6973009    |NULL   |NULL        |win    |\n",
      "|rus                |false                   |keyboard   |1284|14       |7115935    |NULL   |NULL        |win    |\n",
      "|order_of_the_dragon|false                   |keyboard   |1994|-5       |6924135    |NULL   |NULL        |loss   |\n",
      "+-------------------+------------------------+-----------+----+---------+-----------+-------+------------+-------+\n",
      "only showing top 20 rows\n",
      "\n"
     ]
    }
   ],
   "source": [
    "team2_df = final_df.select(\n",
    "    col(\"team2.civilization\").alias(\"civilization2\"),\n",
    "    col(\"team2.civilization_randomized\").alias(\"civilization_randomized2\"),\n",
    "    col(\"team2.input_type\").alias(\"input_type2\"),\n",
    "    col(\"team2.mmr\").alias(\"mmr2\"),\n",
    "    col(\"team2.mmr_diff\").alias(\"mmr_diff2\"),\n",
    "    col(\"team2.profile_id\").alias(\"profile_id2\"),\n",
    "    col(\"team2.rating\").alias(\"rating2\"),\n",
    "    col(\"team2.rating_diff\").alias(\"rating_diff2\"),\n",
    "    col(\"team2.result\").alias(\"result2\")\n",
    ")\n",
    "team2_df.show(truncate=False)"
   ]
  },
  {
   "cell_type": "code",
   "execution_count": 6,
   "metadata": {},
   "outputs": [],
   "source": [
    "final_df_indexed = final_df.withColumn(\"index\", monotonically_increasing_id())\n",
    "team1_df_indexed = team1_df.withColumn(\"index\", monotonically_increasing_id())\n",
    "team2_df_indexed = team2_df.withColumn(\"index\", monotonically_increasing_id())\n",
    "\n",
    "# Join the DataFrames on the index column\n",
    "# joined_df = final_df_indexed.join(team1_df_indexed, \"index\", \"inner\")\n",
    "\n",
    "# # Optionally, you can drop the index column if it's no longer needed\n",
    "# # final_df = joined_df.drop(\"index\")\n",
    "\n",
    "# # Show the result to verify\n",
    "# joined_df.show(truncate=False)"
   ]
  },
  {
   "cell_type": "code",
   "execution_count": 7,
   "metadata": {},
   "outputs": [
    {
     "name": "stdout",
     "output_type": "stream",
     "text": [
      "+--------+-------------+------+-------+---------+---------------------------------------------------------------------------+---------------------------------------------------------------------------+-----+\n",
      "|game_id |map          |kind  |server |patch    |team1                                                                      |team2                                                                      |index|\n",
      "+--------+-------------+------+-------+---------+---------------------------------------------------------------------------+---------------------------------------------------------------------------+-----+\n",
      "|NULL    |NULL         |NULL  |NULL   |NULL     |NULL                                                                       |NULL                                                                       |0    |\n",
      "|96043210|Dry Arabia   |rm_1v1|UK     |9.1.176.0|{rus, false, keyboard, NULL, NULL, 17518566, NULL, NULL, loss}             |{french, false, keyboard, NULL, NULL, 5391878, NULL, NULL, win}            |1    |\n",
      "|96043197|Hidden Valley|rm_1v1|UK     |9.1.176.0|{mongols, false, keyboard, 873, NULL, 5149239, NULL, NULL, loss}           |{french, false, keyboard, 961, 12, 16883606, NULL, NULL, win}              |2    |\n",
      "|96043326|Gorge        |rm_1v1|UK     |9.1.176.0|{delhi_sultanate, false, keyboard, 1073, 17, 15401344, NULL, NULL, win}    |{malians, true, NULL, 1104, -17, 9825729, NULL, NULL, loss}                |3    |\n",
      "|96043357|Hidden Valley|rm_1v1|UK     |9.1.176.0|{holy_roman_empire, false, keyboard, 1120, -14, 797465, NULL, NULL, loss}  |{japanese, false, keyboard, 1161, 14, 8695892, NULL, NULL, win}            |4    |\n",
      "|96043589|Dry Arabia   |rm_1v1|UK     |9.1.176.0|{japanese, false, keyboard, 1045, 16, 11042963, NULL, NULL, win}           |{zhu_xis_legacy, false, keyboard, 1066, -16, 8388565, NULL, NULL, loss}    |5    |\n",
      "|96043570|Rocky River  |rm_1v1|USA (E)|9.1.176.0|{japanese, false, keyboard, 886, -15, 17493451, NULL, NULL, loss}          |{zhu_xis_legacy, false, keyboard, 903, 15, 6425631, NULL, NULL, win}       |6    |\n",
      "|96043694|Golden Pit   |rm_1v1|USA (W)|9.1.176.0|{byzantines, false, keyboard, 1009, 18, 443692, NULL, NULL, win}           |{byzantines, false, keyboard, 1019, -16, 8604145, NULL, NULL, loss}        |7    |\n",
      "|96043684|Dry Arabia   |rm_1v1|USA (E)|9.1.176.0|{byzantines, false, keyboard, 1084, -12, 4149773, NULL, NULL, loss}        |{japanese, false, keyboard, 1162, 12, 226987, NULL, NULL, win}             |8    |\n",
      "|96043837|Cliffside    |rm_1v1|UK     |9.1.176.0|{malians, false, keyboard, 791, -13, 17292066, NULL, NULL, loss}           |{english, false, keyboard, 837, 13, 17286524, NULL, NULL, win}             |9    |\n",
      "|96043826|Canal        |rm_1v1|USA (W)|9.1.176.0|{jeanne_darc, false, keyboard, 1271, 12, 1524605, NULL, NULL, win}         |{japanese, false, keyboard, 1189, -12, 1424701, NULL, NULL, loss}          |10   |\n",
      "|96043832|Gorge        |rm_1v1|UK     |9.1.176.0|{english, false, keyboard, 1264, -14, 9639896, NULL, NULL, loss}           |{japanese, false, keyboard, 1307, 14, 11676227, NULL, NULL, win}           |11   |\n",
      "|96043919|Cliffside    |rm_1v1|UK     |9.1.176.0|{order_of_the_dragon, false, keyboard, 553, -23, 9051584, NULL, NULL, loss}|{zhu_xis_legacy, false, keyboard, 586, 14, 3488627, NULL, NULL, win}       |12   |\n",
      "|96043931|Rocky River  |rm_1v1|UK     |9.1.176.0|{english, false, keyboard, 849, 13, 7467230, NULL, NULL, win}              |{ottomans, false, keyboard, NULL, NULL, 14350251, NULL, NULL, loss}        |13   |\n",
      "|96043916|Gorge        |rm_1v1|Brazil |9.1.176.0|{english, false, keyboard, 901, -15, 13823718, NULL, NULL, loss}           |{chinese, false, keyboard, 904, 15, 7134114, NULL, NULL, win}              |14   |\n",
      "|96043925|Golden Pit   |rm_1v1|UK     |9.1.176.0|{japanese, false, keyboard, 1023, -16, 6976933, NULL, NULL, loss}          |{ayyubids, false, keyboard, 1011, 16, 694111, NULL, NULL, win}             |15   |\n",
      "|96044062|Canal        |rm_1v1|UK     |9.1.176.0|{japanese, false, keyboard, 1420, -16, 462825, NULL, NULL, loss}           |{ayyubids, false, keyboard, 1409, 16, 14860458, NULL, NULL, win}           |16   |\n",
      "|96044174|Rocky River  |rm_1v1|USA (E)|9.1.176.0|{byzantines, false, keyboard, 1027, -14, 443692, NULL, NULL, loss}         |{zhu_xis_legacy, false, keyboard, 1054, 14, 6973009, NULL, NULL, win}      |17   |\n",
      "|96044180|Cliffside    |rm_1v1|USA (E)|9.1.176.0|{english, false, keyboard, 1262, -14, 14944581, NULL, NULL, loss}          |{rus, false, keyboard, 1284, 14, 7115935, NULL, NULL, win}                 |18   |\n",
      "|96044179|Cliffside    |rm_1v1|UK     |9.1.176.0|{jeanne_darc, false, keyboard, 2263, 4, 1270139, NULL, NULL, win}          |{order_of_the_dragon, false, keyboard, 1994, -5, 6924135, NULL, NULL, loss}|19   |\n",
      "+--------+-------------+------+-------+---------+---------------------------------------------------------------------------+---------------------------------------------------------------------------+-----+\n",
      "only showing top 20 rows\n",
      "\n"
     ]
    }
   ],
   "source": [
    "final_df_indexed.show(truncate=False)    "
   ]
  },
  {
   "cell_type": "code",
   "execution_count": 8,
   "metadata": {},
   "outputs": [
    {
     "name": "stdout",
     "output_type": "stream",
     "text": [
      "+-------------------+------------------------+-----------+----+---------+-----------+-------+------------+-------+-----+\n",
      "|civilization1      |civilization_randomized1|input_type1|mmr1|mmr_diff1|profile_id1|rating1|rating_diff1|result1|index|\n",
      "+-------------------+------------------------+-----------+----+---------+-----------+-------+------------+-------+-----+\n",
      "|NULL               |NULL                    |NULL       |NULL|NULL     |NULL       |NULL   |NULL        |NULL   |0    |\n",
      "|rus                |false                   |keyboard   |NULL|NULL     |17518566   |NULL   |NULL        |loss   |1    |\n",
      "|mongols            |false                   |keyboard   |873 |NULL     |5149239    |NULL   |NULL        |loss   |2    |\n",
      "|delhi_sultanate    |false                   |keyboard   |1073|17       |15401344   |NULL   |NULL        |win    |3    |\n",
      "|holy_roman_empire  |false                   |keyboard   |1120|-14      |797465     |NULL   |NULL        |loss   |4    |\n",
      "|japanese           |false                   |keyboard   |1045|16       |11042963   |NULL   |NULL        |win    |5    |\n",
      "|japanese           |false                   |keyboard   |886 |-15      |17493451   |NULL   |NULL        |loss   |6    |\n",
      "|byzantines         |false                   |keyboard   |1009|18       |443692     |NULL   |NULL        |win    |7    |\n",
      "|byzantines         |false                   |keyboard   |1084|-12      |4149773    |NULL   |NULL        |loss   |8    |\n",
      "|malians            |false                   |keyboard   |791 |-13      |17292066   |NULL   |NULL        |loss   |9    |\n",
      "|jeanne_darc        |false                   |keyboard   |1271|12       |1524605    |NULL   |NULL        |win    |10   |\n",
      "|english            |false                   |keyboard   |1264|-14      |9639896    |NULL   |NULL        |loss   |11   |\n",
      "|order_of_the_dragon|false                   |keyboard   |553 |-23      |9051584    |NULL   |NULL        |loss   |12   |\n",
      "|english            |false                   |keyboard   |849 |13       |7467230    |NULL   |NULL        |win    |13   |\n",
      "|english            |false                   |keyboard   |901 |-15      |13823718   |NULL   |NULL        |loss   |14   |\n",
      "|japanese           |false                   |keyboard   |1023|-16      |6976933    |NULL   |NULL        |loss   |15   |\n",
      "|japanese           |false                   |keyboard   |1420|-16      |462825     |NULL   |NULL        |loss   |16   |\n",
      "|byzantines         |false                   |keyboard   |1027|-14      |443692     |NULL   |NULL        |loss   |17   |\n",
      "|english            |false                   |keyboard   |1262|-14      |14944581   |NULL   |NULL        |loss   |18   |\n",
      "|jeanne_darc        |false                   |keyboard   |2263|4        |1270139    |NULL   |NULL        |win    |19   |\n",
      "+-------------------+------------------------+-----------+----+---------+-----------+-------+------------+-------+-----+\n",
      "only showing top 20 rows\n",
      "\n"
     ]
    }
   ],
   "source": [
    "team1_df_indexed.show(truncate=False)"
   ]
  },
  {
   "cell_type": "code",
   "execution_count": 9,
   "metadata": {},
   "outputs": [
    {
     "name": "stdout",
     "output_type": "stream",
     "text": [
      "+-------------------+------------------------+-----------+----+---------+-----------+-------+------------+-------+-----+\n",
      "|civilization2      |civilization_randomized2|input_type2|mmr2|mmr_diff2|profile_id2|rating2|rating_diff2|result2|index|\n",
      "+-------------------+------------------------+-----------+----+---------+-----------+-------+------------+-------+-----+\n",
      "|NULL               |NULL                    |NULL       |NULL|NULL     |NULL       |NULL   |NULL        |NULL   |0    |\n",
      "|french             |false                   |keyboard   |NULL|NULL     |5391878    |NULL   |NULL        |win    |1    |\n",
      "|french             |false                   |keyboard   |961 |12       |16883606   |NULL   |NULL        |win    |2    |\n",
      "|malians            |true                    |NULL       |1104|-17      |9825729    |NULL   |NULL        |loss   |3    |\n",
      "|japanese           |false                   |keyboard   |1161|14       |8695892    |NULL   |NULL        |win    |4    |\n",
      "|zhu_xis_legacy     |false                   |keyboard   |1066|-16      |8388565    |NULL   |NULL        |loss   |5    |\n",
      "|zhu_xis_legacy     |false                   |keyboard   |903 |15       |6425631    |NULL   |NULL        |win    |6    |\n",
      "|byzantines         |false                   |keyboard   |1019|-16      |8604145    |NULL   |NULL        |loss   |7    |\n",
      "|japanese           |false                   |keyboard   |1162|12       |226987     |NULL   |NULL        |win    |8    |\n",
      "|english            |false                   |keyboard   |837 |13       |17286524   |NULL   |NULL        |win    |9    |\n",
      "|japanese           |false                   |keyboard   |1189|-12      |1424701    |NULL   |NULL        |loss   |10   |\n",
      "|japanese           |false                   |keyboard   |1307|14       |11676227   |NULL   |NULL        |win    |11   |\n",
      "|zhu_xis_legacy     |false                   |keyboard   |586 |14       |3488627    |NULL   |NULL        |win    |12   |\n",
      "|ottomans           |false                   |keyboard   |NULL|NULL     |14350251   |NULL   |NULL        |loss   |13   |\n",
      "|chinese            |false                   |keyboard   |904 |15       |7134114    |NULL   |NULL        |win    |14   |\n",
      "|ayyubids           |false                   |keyboard   |1011|16       |694111     |NULL   |NULL        |win    |15   |\n",
      "|ayyubids           |false                   |keyboard   |1409|16       |14860458   |NULL   |NULL        |win    |16   |\n",
      "|zhu_xis_legacy     |false                   |keyboard   |1054|14       |6973009    |NULL   |NULL        |win    |17   |\n",
      "|rus                |false                   |keyboard   |1284|14       |7115935    |NULL   |NULL        |win    |18   |\n",
      "|order_of_the_dragon|false                   |keyboard   |1994|-5       |6924135    |NULL   |NULL        |loss   |19   |\n",
      "+-------------------+------------------------+-----------+----+---------+-----------+-------+------------+-------+-----+\n",
      "only showing top 20 rows\n",
      "\n"
     ]
    }
   ],
   "source": [
    "team2_df_indexed.show(truncate=False)"
   ]
  },
  {
   "cell_type": "code",
   "execution_count": 10,
   "metadata": {},
   "outputs": [
    {
     "name": "stdout",
     "output_type": "stream",
     "text": [
      "+-----+--------+-------------+------+-------+---------+---------------------------------------------------------------------------+---------------------------------------------------------------------------+-------------------+------------------------+-----------+----+---------+-----------+-------+------------+-------+-------------------+------------------------+-----------+----+---------+-----------+-------+------------+-------+\n",
      "|index|game_id |map          |kind  |server |patch    |team1                                                                      |team2                                                                      |civilization1      |civilization_randomized1|input_type1|mmr1|mmr_diff1|profile_id1|rating1|rating_diff1|result1|civilization2      |civilization_randomized2|input_type2|mmr2|mmr_diff2|profile_id2|rating2|rating_diff2|result2|\n",
      "+-----+--------+-------------+------+-------+---------+---------------------------------------------------------------------------+---------------------------------------------------------------------------+-------------------+------------------------+-----------+----+---------+-----------+-------+------------+-------+-------------------+------------------------+-----------+----+---------+-----------+-------+------------+-------+\n",
      "|0    |NULL    |NULL         |NULL  |NULL   |NULL     |NULL                                                                       |NULL                                                                       |NULL               |NULL                    |NULL       |NULL|NULL     |NULL       |NULL   |NULL        |NULL   |NULL               |NULL                    |NULL       |NULL|NULL     |NULL       |NULL   |NULL        |NULL   |\n",
      "|1    |96043210|Dry Arabia   |rm_1v1|UK     |9.1.176.0|{rus, false, keyboard, NULL, NULL, 17518566, NULL, NULL, loss}             |{french, false, keyboard, NULL, NULL, 5391878, NULL, NULL, win}            |rus                |false                   |keyboard   |NULL|NULL     |17518566   |NULL   |NULL        |loss   |french             |false                   |keyboard   |NULL|NULL     |5391878    |NULL   |NULL        |win    |\n",
      "|2    |96043197|Hidden Valley|rm_1v1|UK     |9.1.176.0|{mongols, false, keyboard, 873, NULL, 5149239, NULL, NULL, loss}           |{french, false, keyboard, 961, 12, 16883606, NULL, NULL, win}              |mongols            |false                   |keyboard   |873 |NULL     |5149239    |NULL   |NULL        |loss   |french             |false                   |keyboard   |961 |12       |16883606   |NULL   |NULL        |win    |\n",
      "|3    |96043326|Gorge        |rm_1v1|UK     |9.1.176.0|{delhi_sultanate, false, keyboard, 1073, 17, 15401344, NULL, NULL, win}    |{malians, true, NULL, 1104, -17, 9825729, NULL, NULL, loss}                |delhi_sultanate    |false                   |keyboard   |1073|17       |15401344   |NULL   |NULL        |win    |malians            |true                    |NULL       |1104|-17      |9825729    |NULL   |NULL        |loss   |\n",
      "|4    |96043357|Hidden Valley|rm_1v1|UK     |9.1.176.0|{holy_roman_empire, false, keyboard, 1120, -14, 797465, NULL, NULL, loss}  |{japanese, false, keyboard, 1161, 14, 8695892, NULL, NULL, win}            |holy_roman_empire  |false                   |keyboard   |1120|-14      |797465     |NULL   |NULL        |loss   |japanese           |false                   |keyboard   |1161|14       |8695892    |NULL   |NULL        |win    |\n",
      "|5    |96043589|Dry Arabia   |rm_1v1|UK     |9.1.176.0|{japanese, false, keyboard, 1045, 16, 11042963, NULL, NULL, win}           |{zhu_xis_legacy, false, keyboard, 1066, -16, 8388565, NULL, NULL, loss}    |japanese           |false                   |keyboard   |1045|16       |11042963   |NULL   |NULL        |win    |zhu_xis_legacy     |false                   |keyboard   |1066|-16      |8388565    |NULL   |NULL        |loss   |\n",
      "|6    |96043570|Rocky River  |rm_1v1|USA (E)|9.1.176.0|{japanese, false, keyboard, 886, -15, 17493451, NULL, NULL, loss}          |{zhu_xis_legacy, false, keyboard, 903, 15, 6425631, NULL, NULL, win}       |japanese           |false                   |keyboard   |886 |-15      |17493451   |NULL   |NULL        |loss   |zhu_xis_legacy     |false                   |keyboard   |903 |15       |6425631    |NULL   |NULL        |win    |\n",
      "|7    |96043694|Golden Pit   |rm_1v1|USA (W)|9.1.176.0|{byzantines, false, keyboard, 1009, 18, 443692, NULL, NULL, win}           |{byzantines, false, keyboard, 1019, -16, 8604145, NULL, NULL, loss}        |byzantines         |false                   |keyboard   |1009|18       |443692     |NULL   |NULL        |win    |byzantines         |false                   |keyboard   |1019|-16      |8604145    |NULL   |NULL        |loss   |\n",
      "|8    |96043684|Dry Arabia   |rm_1v1|USA (E)|9.1.176.0|{byzantines, false, keyboard, 1084, -12, 4149773, NULL, NULL, loss}        |{japanese, false, keyboard, 1162, 12, 226987, NULL, NULL, win}             |byzantines         |false                   |keyboard   |1084|-12      |4149773    |NULL   |NULL        |loss   |japanese           |false                   |keyboard   |1162|12       |226987     |NULL   |NULL        |win    |\n",
      "|9    |96043837|Cliffside    |rm_1v1|UK     |9.1.176.0|{malians, false, keyboard, 791, -13, 17292066, NULL, NULL, loss}           |{english, false, keyboard, 837, 13, 17286524, NULL, NULL, win}             |malians            |false                   |keyboard   |791 |-13      |17292066   |NULL   |NULL        |loss   |english            |false                   |keyboard   |837 |13       |17286524   |NULL   |NULL        |win    |\n",
      "|10   |96043826|Canal        |rm_1v1|USA (W)|9.1.176.0|{jeanne_darc, false, keyboard, 1271, 12, 1524605, NULL, NULL, win}         |{japanese, false, keyboard, 1189, -12, 1424701, NULL, NULL, loss}          |jeanne_darc        |false                   |keyboard   |1271|12       |1524605    |NULL   |NULL        |win    |japanese           |false                   |keyboard   |1189|-12      |1424701    |NULL   |NULL        |loss   |\n",
      "|11   |96043832|Gorge        |rm_1v1|UK     |9.1.176.0|{english, false, keyboard, 1264, -14, 9639896, NULL, NULL, loss}           |{japanese, false, keyboard, 1307, 14, 11676227, NULL, NULL, win}           |english            |false                   |keyboard   |1264|-14      |9639896    |NULL   |NULL        |loss   |japanese           |false                   |keyboard   |1307|14       |11676227   |NULL   |NULL        |win    |\n",
      "|12   |96043919|Cliffside    |rm_1v1|UK     |9.1.176.0|{order_of_the_dragon, false, keyboard, 553, -23, 9051584, NULL, NULL, loss}|{zhu_xis_legacy, false, keyboard, 586, 14, 3488627, NULL, NULL, win}       |order_of_the_dragon|false                   |keyboard   |553 |-23      |9051584    |NULL   |NULL        |loss   |zhu_xis_legacy     |false                   |keyboard   |586 |14       |3488627    |NULL   |NULL        |win    |\n",
      "|13   |96043931|Rocky River  |rm_1v1|UK     |9.1.176.0|{english, false, keyboard, 849, 13, 7467230, NULL, NULL, win}              |{ottomans, false, keyboard, NULL, NULL, 14350251, NULL, NULL, loss}        |english            |false                   |keyboard   |849 |13       |7467230    |NULL   |NULL        |win    |ottomans           |false                   |keyboard   |NULL|NULL     |14350251   |NULL   |NULL        |loss   |\n",
      "|14   |96043916|Gorge        |rm_1v1|Brazil |9.1.176.0|{english, false, keyboard, 901, -15, 13823718, NULL, NULL, loss}           |{chinese, false, keyboard, 904, 15, 7134114, NULL, NULL, win}              |english            |false                   |keyboard   |901 |-15      |13823718   |NULL   |NULL        |loss   |chinese            |false                   |keyboard   |904 |15       |7134114    |NULL   |NULL        |win    |\n",
      "|15   |96043925|Golden Pit   |rm_1v1|UK     |9.1.176.0|{japanese, false, keyboard, 1023, -16, 6976933, NULL, NULL, loss}          |{ayyubids, false, keyboard, 1011, 16, 694111, NULL, NULL, win}             |japanese           |false                   |keyboard   |1023|-16      |6976933    |NULL   |NULL        |loss   |ayyubids           |false                   |keyboard   |1011|16       |694111     |NULL   |NULL        |win    |\n",
      "|16   |96044062|Canal        |rm_1v1|UK     |9.1.176.0|{japanese, false, keyboard, 1420, -16, 462825, NULL, NULL, loss}           |{ayyubids, false, keyboard, 1409, 16, 14860458, NULL, NULL, win}           |japanese           |false                   |keyboard   |1420|-16      |462825     |NULL   |NULL        |loss   |ayyubids           |false                   |keyboard   |1409|16       |14860458   |NULL   |NULL        |win    |\n",
      "|17   |96044174|Rocky River  |rm_1v1|USA (E)|9.1.176.0|{byzantines, false, keyboard, 1027, -14, 443692, NULL, NULL, loss}         |{zhu_xis_legacy, false, keyboard, 1054, 14, 6973009, NULL, NULL, win}      |byzantines         |false                   |keyboard   |1027|-14      |443692     |NULL   |NULL        |loss   |zhu_xis_legacy     |false                   |keyboard   |1054|14       |6973009    |NULL   |NULL        |win    |\n",
      "|18   |96044180|Cliffside    |rm_1v1|USA (E)|9.1.176.0|{english, false, keyboard, 1262, -14, 14944581, NULL, NULL, loss}          |{rus, false, keyboard, 1284, 14, 7115935, NULL, NULL, win}                 |english            |false                   |keyboard   |1262|-14      |14944581   |NULL   |NULL        |loss   |rus                |false                   |keyboard   |1284|14       |7115935    |NULL   |NULL        |win    |\n",
      "|19   |96044179|Cliffside    |rm_1v1|UK     |9.1.176.0|{jeanne_darc, false, keyboard, 2263, 4, 1270139, NULL, NULL, win}          |{order_of_the_dragon, false, keyboard, 1994, -5, 6924135, NULL, NULL, loss}|jeanne_darc        |false                   |keyboard   |2263|4        |1270139    |NULL   |NULL        |win    |order_of_the_dragon|false                   |keyboard   |1994|-5       |6924135    |NULL   |NULL        |loss   |\n",
      "+-----+--------+-------------+------+-------+---------+---------------------------------------------------------------------------+---------------------------------------------------------------------------+-------------------+------------------------+-----------+----+---------+-----------+-------+------------+-------+-------------------+------------------------+-----------+----+---------+-----------+-------+------------+-------+\n",
      "only showing top 20 rows\n",
      "\n"
     ]
    }
   ],
   "source": [
    "final_df_indexed = final_df_indexed.join(team1_df_indexed, \"index\", \"inner\")\n",
    "final_df_indexed = final_df_indexed.join(team2_df_indexed, \"index\", \"inner\")\n",
    "\n",
    "# Optionally, you can drop the index column if it's no longer needed\n",
    "# final_df = joined_df.drop(\"index\")\n",
    "# Show the result to verify\n",
    "final_df_indexed.orderBy(\"index\").show(truncate=False)"
   ]
  }
 ],
 "metadata": {
  "kernelspec": {
   "display_name": "Python 3",
   "language": "python",
   "name": "python3"
  },
  "language_info": {
   "codemirror_mode": {
    "name": "ipython",
    "version": 3
   },
   "file_extension": ".py",
   "mimetype": "text/x-python",
   "name": "python",
   "nbconvert_exporter": "python",
   "pygments_lexer": "ipython3",
   "version": "3.12.1"
  }
 },
 "nbformat": 4,
 "nbformat_minor": 2
}
